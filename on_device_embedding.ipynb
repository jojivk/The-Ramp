{
  "nbformat": 4,
  "nbformat_minor": 0,
  "metadata": {
    "colab": {
      "name": "on_device_embedding.ipynb",
      "provenance": [],
      "authorship_tag": "ABX9TyN0aWer5C5FZVgi/qCNAcyr",
      "include_colab_link": true
    },
    "kernelspec": {
      "name": "python3",
      "display_name": "Python 3"
    },
    "language_info": {
      "name": "python"
    }
  },
  "cells": [
    {
      "cell_type": "markdown",
      "metadata": {
        "id": "view-in-github",
        "colab_type": "text"
      },
      "source": [
        "<a href=\"https://colab.research.google.com/github/jojivk/The-Ramp/blob/master/on_device_embedding.ipynb\" target=\"_parent\"><img src=\"https://colab.research.google.com/assets/colab-badge.svg\" alt=\"Open In Colab\"/></a>"
      ]
    },
    {
      "cell_type": "code",
      "metadata": {
        "id": "_SXDoINQHyS6"
      },
      "source": [
        "import tensorflow as tf\n",
        "\n",
        "@tf.keras.utils.register_keras_serializable(package='keras_nlp')\n",
        "class OnDeviceEmbedding(tf.keras.layers.Layer):\n",
        "\n",
        "  def __init__(self,\n",
        "               vocab_size,\n",
        "               embedding_width,\n",
        "               initalizer=\"glorot_uniform\",\n",
        "               use_one_hot=False\n",
        "               scale_factor=None\n",
        "               **kwargs):\n",
        "    super(OnDeviceEmbedding, self).__init__(**kwargs)\n",
        "    self._vocab_size = vocab_size\n",
        "    self._embedding_width = embedding_width\n",
        "    self._initalizer = intializer\n",
        "    self._use_one_hot = use_one_hot\n",
        "    self._scale_factor = scale_factor\n",
        "\n",
        "  def get_config(self):\n",
        "     config = {\n",
        "        \"vocab_size\": self._vocab_size,\n",
        "        \"embedding_width\": self._embedding_width,\n",
        "        \"initializer\": self._initializer,\n",
        "        \"use_one_hot\": self._use_one_hot,\n",
        "        \"scale_factor\": self._scale_factor,\n",
        "    }\n",
        "    base_config = super(OnDeviceEmbedding, self).get_config()\n",
        "    return dict(list(base_config.items())+ list(config.items()))\n",
        "\n",
        "  def build(self, input_shape):\n",
        "    self.embeddings = self.add_weight(\n",
        "        \"embeddings\",\n",
        "        shape=[self._vocab_size, self._embedding_width],\n",
        "        initializer=self._initializer,\n",
        "        dtype=tf.float32\n",
        "    )\n",
        "    super(OnDeviceEmbedding, self).build(input_shape)\n",
        "\n",
        "    def call(self, inputs):\n",
        "    flat_inputs = tf.reshape(inputs, [-1])\n",
        "    if self._use_one_hot:\n",
        "      dtype = self._compute_dtype\n",
        "      if not tf.dtypes.as_dtype(dtype).is_floating:\n",
        "        # TensorFlow 1 compatibility. In TF1, self._compute_dtype is int32\n",
        "        # instead of a floating-point dtype, as the dtype is inferred from the\n",
        "        # dtype of the inputs\n",
        "        dtype = tf.float32\n",
        "      one_hot_data = tf.one_hot(\n",
        "          flat_inputs, depth=self._vocab_size, dtype=dtype)\n",
        "      embeddings = tf.matmul(one_hot_data, self.embeddings)\n",
        "    else:\n",
        "      embeddings = tf.gather(self.embeddings, flat_inputs)\n",
        "    embeddings = tf.reshape(\n",
        "        embeddings,\n",
        "        # Work around b/142213824: prefer concat to shape over a Python list.\n",
        "        tf.concat([tf.shape(inputs), [self._embedding_width]], axis=0))\n",
        "    embeddings.set_shape(inputs.shape.as_list() + [self._embedding_width])\n",
        "    if self._scale_factor:\n",
        "      embeddings *= self._scale_factor\n",
        "    return embeddings\n",
        "\n",
        "  @property\n",
        "  def vocab_size(self):\n",
        "    return self._vocab_size\n",
        "\n",
        "  @property\n",
        "  def embedding_width(self):\n",
        "    return self._embedding_width"
      ],
      "execution_count": null,
      "outputs": []
    }
  ]
}